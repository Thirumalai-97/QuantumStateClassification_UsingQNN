{
 "cells": [
  {
   "cell_type": "markdown",
   "metadata": {},
   "source": [
    "## AD Channel \n",
    "\n",
    "Applied Bell state, U0, Ansatz and training \n",
    "Ansatz - Realamplitude \n",
    "Optimizer - COBYLA\n",
    "\n"
   ]
  },
  {
   "cell_type": "code",
   "execution_count": 1,
   "metadata": {},
   "outputs": [],
   "source": [
    "import numpy as np  \n",
    "%matplotlib inline\n",
    "import plotly.express as px\n",
    "import pandas as pd\n",
    "import matplotlib.pyplot as plt\n",
    "import time\n",
    "\n",
    "\n",
    "import matplotlib.pyplot as plt\n",
    "\n",
    "\n",
    "from IPython.display import clear_output\n",
    "from qiskit import QuantumCircuit\n",
    "from qiskit.circuit import Parameter\n",
    "from qiskit.circuit.library import RealAmplitudes, ZZFeatureMap\n",
    "from qiskit_algorithms.optimizers import COBYLA, L_BFGS_B\n",
    "from qiskit_algorithms.utils import algorithm_globals\n",
    "\n",
    "from qiskit_machine_learning.algorithms.classifiers import NeuralNetworkClassifier, VQC\n",
    "from qiskit_machine_learning.algorithms.regressors import NeuralNetworkRegressor, VQR\n",
    "from qiskit_machine_learning.neural_networks import SamplerQNN, EstimatorQNN\n",
    "from qiskit_machine_learning.circuit.library import QNNCircuit\n",
    "from qiskit.circuit.library import UnitaryGate\n",
    "from scipy.linalg import sqrtm, eig\n",
    "from qiskit.circuit import ParameterVector\n",
    "\n",
    "from qiskit.quantum_info import *\n",
    "from qiskit import *\n",
    "import numpy as np\n",
    "import math\n",
    "from qiskit.quantum_info import concurrence, state_fidelity, average_gate_fidelity, process_fidelity, Statevector\n",
    "import matplotlib.pyplot as plt\n",
    "from qiskit.circuit.library import UnitaryGate\n",
    "from scipy.linalg import sqrtm, eig\n",
    "from sympy import symbols, sqrt\n",
    "from qiskit.quantum_info.operators import Operator, Pauli, SparsePauliOp\n",
    "import sympy\n",
    "\n",
    "\n",
    "import numpy as np\n",
    "import pandas as pd\n",
    "import matplotlib.pyplot as plt\n",
    "import time\n",
    "from sklearn.model_selection import train_test_split\n",
    "from sklearn.metrics import log_loss, confusion_matrix, precision_score, recall_score, f1_score, roc_curve, roc_auc_score,accuracy_score\n",
    "from qiskit import QuantumCircuit\n",
    "from qiskit.circuit.library import RealAmplitudes, ZZFeatureMap\n",
    "from qiskit_machine_learning.algorithms.classifiers import VQC\n",
    "from qiskit.primitives import Sampler\n",
    "from sklearn.model_selection import cross_validate\n",
    "from sklearn.linear_model import LogisticRegression\n",
    "from sklearn import metrics\n",
    "\n",
    "\n",
    "\n",
    "\n",
    "algorithm_globals.random_seed = 42"
   ]
  },
  {
   "cell_type": "code",
   "execution_count": 2,
   "metadata": {},
   "outputs": [],
   "source": [
    "data = pd.read_csv('rtn_dataset.csv')\n",
    "\n",
    "data['true_label']=data['concurrence'].apply(lambda x: 0 if x == 0 else 1)"
   ]
  },
  {
   "cell_type": "code",
   "execution_count": 3,
   "metadata": {},
   "outputs": [
    {
     "data": {
      "text/html": [
       "<div>\n",
       "<style scoped>\n",
       "    .dataframe tbody tr th:only-of-type {\n",
       "        vertical-align: middle;\n",
       "    }\n",
       "\n",
       "    .dataframe tbody tr th {\n",
       "        vertical-align: top;\n",
       "    }\n",
       "\n",
       "    .dataframe thead th {\n",
       "        text-align: right;\n",
       "    }\n",
       "</style>\n",
       "<table border=\"1\" class=\"dataframe\">\n",
       "  <thead>\n",
       "    <tr style=\"text-align: right;\">\n",
       "      <th></th>\n",
       "      <th>time</th>\n",
       "      <th>gamma</th>\n",
       "      <th>concurrence</th>\n",
       "      <th>true_label</th>\n",
       "    </tr>\n",
       "  </thead>\n",
       "  <tbody>\n",
       "    <tr>\n",
       "      <th>0</th>\n",
       "      <td>100.000</td>\n",
       "      <td>0.1</td>\n",
       "      <td>0.000000</td>\n",
       "      <td>0</td>\n",
       "    </tr>\n",
       "    <tr>\n",
       "      <th>1</th>\n",
       "      <td>100.100</td>\n",
       "      <td>0.1</td>\n",
       "      <td>0.000000</td>\n",
       "      <td>0</td>\n",
       "    </tr>\n",
       "    <tr>\n",
       "      <th>2</th>\n",
       "      <td>100.200</td>\n",
       "      <td>0.1</td>\n",
       "      <td>0.000000</td>\n",
       "      <td>0</td>\n",
       "    </tr>\n",
       "    <tr>\n",
       "      <th>3</th>\n",
       "      <td>100.300</td>\n",
       "      <td>0.1</td>\n",
       "      <td>0.000000</td>\n",
       "      <td>0</td>\n",
       "    </tr>\n",
       "    <tr>\n",
       "      <th>4</th>\n",
       "      <td>100.400</td>\n",
       "      <td>0.1</td>\n",
       "      <td>0.000000</td>\n",
       "      <td>0</td>\n",
       "    </tr>\n",
       "    <tr>\n",
       "      <th>...</th>\n",
       "      <td>...</td>\n",
       "      <td>...</td>\n",
       "      <td>...</td>\n",
       "      <td>...</td>\n",
       "    </tr>\n",
       "    <tr>\n",
       "      <th>1995</th>\n",
       "      <td>0.995</td>\n",
       "      <td>0.9</td>\n",
       "      <td>0.725259</td>\n",
       "      <td>1</td>\n",
       "    </tr>\n",
       "    <tr>\n",
       "      <th>1996</th>\n",
       "      <td>0.996</td>\n",
       "      <td>0.9</td>\n",
       "      <td>0.724569</td>\n",
       "      <td>1</td>\n",
       "    </tr>\n",
       "    <tr>\n",
       "      <th>1997</th>\n",
       "      <td>0.997</td>\n",
       "      <td>0.9</td>\n",
       "      <td>0.723878</td>\n",
       "      <td>1</td>\n",
       "    </tr>\n",
       "    <tr>\n",
       "      <th>1998</th>\n",
       "      <td>0.998</td>\n",
       "      <td>0.9</td>\n",
       "      <td>0.723878</td>\n",
       "      <td>1</td>\n",
       "    </tr>\n",
       "    <tr>\n",
       "      <th>1999</th>\n",
       "      <td>0.999</td>\n",
       "      <td>0.9</td>\n",
       "      <td>0.723187</td>\n",
       "      <td>1</td>\n",
       "    </tr>\n",
       "  </tbody>\n",
       "</table>\n",
       "<p>2000 rows × 4 columns</p>\n",
       "</div>"
      ],
      "text/plain": [
       "         time  gamma  concurrence  true_label\n",
       "0     100.000    0.1     0.000000           0\n",
       "1     100.100    0.1     0.000000           0\n",
       "2     100.200    0.1     0.000000           0\n",
       "3     100.300    0.1     0.000000           0\n",
       "4     100.400    0.1     0.000000           0\n",
       "...       ...    ...          ...         ...\n",
       "1995    0.995    0.9     0.725259           1\n",
       "1996    0.996    0.9     0.724569           1\n",
       "1997    0.997    0.9     0.723878           1\n",
       "1998    0.998    0.9     0.723878           1\n",
       "1999    0.999    0.9     0.723187           1\n",
       "\n",
       "[2000 rows x 4 columns]"
      ]
     },
     "execution_count": 3,
     "metadata": {},
     "output_type": "execute_result"
    }
   ],
   "source": [
    "data"
   ]
  },
  {
   "cell_type": "code",
   "execution_count": 4,
   "metadata": {},
   "outputs": [],
   "source": [
    "data_features = data.iloc[:, 0:2]\n",
    "data_labels = data.iloc[:,3].values"
   ]
  },
  {
   "cell_type": "code",
   "execution_count": 5,
   "metadata": {},
   "outputs": [],
   "source": [
    "#data_labels"
   ]
  },
  {
   "cell_type": "code",
   "execution_count": 6,
   "metadata": {},
   "outputs": [],
   "source": [
    "X = data_features\n",
    "y = data_labels"
   ]
  },
  {
   "cell_type": "code",
   "execution_count": 7,
   "metadata": {},
   "outputs": [
    {
     "data": {
      "text/html": [
       "<div>\n",
       "<style scoped>\n",
       "    .dataframe tbody tr th:only-of-type {\n",
       "        vertical-align: middle;\n",
       "    }\n",
       "\n",
       "    .dataframe tbody tr th {\n",
       "        vertical-align: top;\n",
       "    }\n",
       "\n",
       "    .dataframe thead th {\n",
       "        text-align: right;\n",
       "    }\n",
       "</style>\n",
       "<table border=\"1\" class=\"dataframe\">\n",
       "  <thead>\n",
       "    <tr style=\"text-align: right;\">\n",
       "      <th></th>\n",
       "      <th>time</th>\n",
       "      <th>gamma</th>\n",
       "    </tr>\n",
       "  </thead>\n",
       "  <tbody>\n",
       "    <tr>\n",
       "      <th>0</th>\n",
       "      <td>100.000</td>\n",
       "      <td>0.1</td>\n",
       "    </tr>\n",
       "    <tr>\n",
       "      <th>1</th>\n",
       "      <td>100.100</td>\n",
       "      <td>0.1</td>\n",
       "    </tr>\n",
       "    <tr>\n",
       "      <th>2</th>\n",
       "      <td>100.200</td>\n",
       "      <td>0.1</td>\n",
       "    </tr>\n",
       "    <tr>\n",
       "      <th>3</th>\n",
       "      <td>100.300</td>\n",
       "      <td>0.1</td>\n",
       "    </tr>\n",
       "    <tr>\n",
       "      <th>4</th>\n",
       "      <td>100.400</td>\n",
       "      <td>0.1</td>\n",
       "    </tr>\n",
       "    <tr>\n",
       "      <th>...</th>\n",
       "      <td>...</td>\n",
       "      <td>...</td>\n",
       "    </tr>\n",
       "    <tr>\n",
       "      <th>1995</th>\n",
       "      <td>0.995</td>\n",
       "      <td>0.9</td>\n",
       "    </tr>\n",
       "    <tr>\n",
       "      <th>1996</th>\n",
       "      <td>0.996</td>\n",
       "      <td>0.9</td>\n",
       "    </tr>\n",
       "    <tr>\n",
       "      <th>1997</th>\n",
       "      <td>0.997</td>\n",
       "      <td>0.9</td>\n",
       "    </tr>\n",
       "    <tr>\n",
       "      <th>1998</th>\n",
       "      <td>0.998</td>\n",
       "      <td>0.9</td>\n",
       "    </tr>\n",
       "    <tr>\n",
       "      <th>1999</th>\n",
       "      <td>0.999</td>\n",
       "      <td>0.9</td>\n",
       "    </tr>\n",
       "  </tbody>\n",
       "</table>\n",
       "<p>2000 rows × 2 columns</p>\n",
       "</div>"
      ],
      "text/plain": [
       "         time  gamma\n",
       "0     100.000    0.1\n",
       "1     100.100    0.1\n",
       "2     100.200    0.1\n",
       "3     100.300    0.1\n",
       "4     100.400    0.1\n",
       "...       ...    ...\n",
       "1995    0.995    0.9\n",
       "1996    0.996    0.9\n",
       "1997    0.997    0.9\n",
       "1998    0.998    0.9\n",
       "1999    0.999    0.9\n",
       "\n",
       "[2000 rows x 2 columns]"
      ]
     },
     "execution_count": 7,
     "metadata": {},
     "output_type": "execute_result"
    }
   ],
   "source": [
    "X"
   ]
  },
  {
   "cell_type": "code",
   "execution_count": 8,
   "metadata": {},
   "outputs": [
    {
     "ename": "NameError",
     "evalue": "name 'sns' is not defined",
     "output_type": "error",
     "traceback": [
      "\u001b[1;31m---------------------------------------------------------------------------\u001b[0m",
      "\u001b[1;31mNameError\u001b[0m                                 Traceback (most recent call last)",
      "Cell \u001b[1;32mIn[8], line 2\u001b[0m\n\u001b[0;32m      1\u001b[0m plt\u001b[38;5;241m.\u001b[39mfigure(figsize\u001b[38;5;241m=\u001b[39m(\u001b[38;5;241m10\u001b[39m, \u001b[38;5;241m6\u001b[39m))\n\u001b[1;32m----> 2\u001b[0m sns\u001b[38;5;241m.\u001b[39mscatterplot(x\u001b[38;5;241m=\u001b[39m\u001b[38;5;124m'\u001b[39m\u001b[38;5;124mtime\u001b[39m\u001b[38;5;124m'\u001b[39m, y\u001b[38;5;241m=\u001b[39m\u001b[38;5;124m'\u001b[39m\u001b[38;5;124mtrue_label\u001b[39m\u001b[38;5;124m'\u001b[39m, hue\u001b[38;5;241m=\u001b[39m\u001b[38;5;124m'\u001b[39m\u001b[38;5;124mtrue_label\u001b[39m\u001b[38;5;124m'\u001b[39m, palette\u001b[38;5;241m=\u001b[39m\u001b[38;5;124m'\u001b[39m\u001b[38;5;124mviridis\u001b[39m\u001b[38;5;124m'\u001b[39m, data\u001b[38;5;241m=\u001b[39mdata)\n\u001b[0;32m      3\u001b[0m plt\u001b[38;5;241m.\u001b[39mtitle(\u001b[38;5;124m'\u001b[39m\u001b[38;5;124mEntangles state vs Seperable state\u001b[39m\u001b[38;5;124m'\u001b[39m)\n\u001b[0;32m      4\u001b[0m plt\u001b[38;5;241m.\u001b[39mxlabel(\u001b[38;5;124m'\u001b[39m\u001b[38;5;124mqubit_1\u001b[39m\u001b[38;5;124m'\u001b[39m)\n",
      "\u001b[1;31mNameError\u001b[0m: name 'sns' is not defined"
     ]
    },
    {
     "data": {
      "text/plain": [
       "<Figure size 1000x600 with 0 Axes>"
      ]
     },
     "metadata": {},
     "output_type": "display_data"
    }
   ],
   "source": [
    "plt.figure(figsize=(10, 6))\n",
    "sns.scatterplot(x='time', y='true_label', hue='true_label', palette='viridis', data=data)\n",
    "plt.title('Entangles state vs Seperable state')\n",
    "plt.xlabel('qubit_1')\n",
    "plt.ylabel('State')\n",
    "plt.legend(title='Label')\n",
    "plt.show()"
   ]
  },
  {
   "cell_type": "code",
   "execution_count": 9,
   "metadata": {},
   "outputs": [
    {
     "data": {
      "text/plain": [
       "(2000, 2)"
      ]
     },
     "execution_count": 9,
     "metadata": {},
     "output_type": "execute_result"
    }
   ],
   "source": [
    "num_qubits=X.shape\n",
    "num_qubits"
   ]
  },
  {
   "cell_type": "code",
   "execution_count": 10,
   "metadata": {},
   "outputs": [
    {
     "data": {
      "text/html": [
       "<pre style=\"word-wrap: normal;white-space: pre;background: #fff0;line-height: 1.1;font-family: &quot;Courier New&quot;,Courier,monospace\">     ┌───┐     ┌────────────┐\n",
       "q_0: ┤ H ├──■──┤0           ├\n",
       "     └───┘┌─┴─┐│  Rtn1(x,y) │\n",
       "q_1: ─────┤ X ├┤1           ├\n",
       "          └───┘└────────────┘</pre>"
      ],
      "text/plain": [
       "     ┌───┐     ┌────────────┐\n",
       "q_0: ┤ H ├──■──┤0           ├\n",
       "     └───┘┌─┴─┐│  Rtn1(x,y) │\n",
       "q_1: ─────┤ X ├┤1           ├\n",
       "          └───┘└────────────┘"
      ]
     },
     "execution_count": 10,
     "metadata": {},
     "output_type": "execute_result"
    }
   ],
   "source": [
    "from qiskit import QuantumCircuit\n",
    "from qiskit.circuit import Parameter, Gate\n",
    "\n",
    "\n",
    "class UHGate(Gate):\n",
    "    def __init__(self, x,y, label=None):\n",
    "        super().__init__('U', 2, [x,y], label=label)\n",
    "        \n",
    "        \n",
    "    \n",
    "    def _define(self):\n",
    "        qc = QuantumCircuit(2)\n",
    "        qc.unitary(self.unitary_mat_0()[1], [0, 1])\n",
    "\n",
    "        self.definition = qc\n",
    "\n",
    "    \n",
    "    def kraus_list(self,gamma,t):\n",
    "       \n",
    "        hf=np.sqrt(((2*0.5)/gamma**2)-1)\n",
    "        nf=np.exp(-gamma*t)*((np.cos(hf*(gamma*t))+(np.sin(hf*(gamma*t))/hf)))\n",
    "\n",
    "        k1=[[np.sqrt((1+nf)/2),0],[0,np.sqrt((1+nf)/2)]]\n",
    "        k2=[[np.sqrt((1-nf)/2),0],[0,-np.sqrt((1-nf)/2)]]\n",
    "        return k1,k2\n",
    "    \n",
    "\n",
    "\n",
    "    def unitary_mat_0(self):\n",
    "        gamma = self.params[1]\n",
    "        t = self.params[0]\n",
    "        k_list=self.kraus_list(gamma,t)\n",
    "        k0=np.array(k_list[0])\n",
    "        k1=np.array(k_list[1])\n",
    "\n",
    "        D0=sqrtm(np.identity(2)-np.matmul(k0.T.conjugate(),k0))\n",
    "        D0dag=sqrtm(np.identity(2)-np.matmul(k0,k0.T.conjugate()))\n",
    "        D1=sqrtm(np.identity(2)-np.matmul(k1.T.conjugate(),k1))\n",
    "        D1dag=sqrtm(np.identity(2)-np.matmul(k1,k1.T.conjugate()))\n",
    "\n",
    "        z=np.array([[1,0],[0,-1]])\n",
    "        x=np.array([[0,1],[1,0]])\n",
    "        y=np.array([[0,-1j],[1j,0]])\n",
    "\n",
    "        u0= np.kron((x-1j*y)/2,D0)+ np.kron((x+1j*y)/2,D0dag)+np.kron((np.identity(2)+z)/2,k0)-np.kron((np.identity(2)-z)/2,k0.T.conjugate())\n",
    "        u1= np.kron((x-1j*y)/2,D1)+ np.kron((x+1j*y)/2,D1dag)+np.kron((np.identity(2)+z)/2,k1)-np.kron((np.identity(2)-z)/2,k1.T.conjugate())\n",
    "\n",
    "\n",
    "        return u0,u1\n",
    "\n",
    "        \n",
    "class RTN0(Gate):\n",
    "    def __init__(self, x,y, label=None):\n",
    "        super().__init__('RTN0', 2, [x,y], label=label)\n",
    "        \n",
    "        \n",
    "    \n",
    "    def _define(self):\n",
    "        qc = QuantumCircuit(2)\n",
    "        qc.unitary(self.unitary_mat_rtn()[0], [0, 1])\n",
    "       \n",
    "        self.definition = qc\n",
    "\n",
    "    \n",
    "    def kraus_list_rtn(self,gamma,t):\n",
    "        a=0.5\n",
    "        gamma = gamma\n",
    "        hf=np.sqrt(((2*a)/gamma**2)-1)\n",
    "        nf=np.exp(-gamma*t)*((np.cos(hf*(gamma*t))+(np.sin(hf*(gamma*t))/hf)))\n",
    "        k1=[[np.sqrt((1+nf)/2),0],[0,np.sqrt((1+nf)/2)]]\n",
    "        k2=[[np.sqrt((1-nf)/2),0],[0,-np.sqrt((1-nf)/2)]]\n",
    "        \n",
    "\n",
    "       \n",
    "          \n",
    "\n",
    "        return k1,k2\n",
    "\n",
    "\n",
    "    def unitary_mat_rtn(self):\n",
    "        gamma = self.params[0]\n",
    "        t = self.params[1]\n",
    "        #print(f'gamma_1-{gamma}, time_1-{t}\\n')\n",
    "        k_list=self.kraus_list_rtn(gamma,t)\n",
    "        k0=np.array(k_list[0])\n",
    "        k1=np.array(k_list[1])\n",
    "        D0=sqrtm(np.identity(2)-np.matmul(k0.T.conjugate(),k0))\n",
    "        D0dag=sqrtm(np.identity(2)-np.matmul(k0,k0.T.conjugate()))\n",
    "        D1=sqrtm(np.identity(2)-np.matmul(k1.T.conjugate(),k1))\n",
    "        D1dag=sqrtm(np.identity(2)-np.matmul(k1,k1.T.conjugate()))\n",
    "\n",
    "        z=np.array([[1,0],[0,-1]])\n",
    "        x=np.array([[0,1],[1,0]])\n",
    "        y=np.array([[0,-1j],[1j,0]])\n",
    "        \n",
    "        u0= np.kron((x-1j*y)/2,D0)+ np.kron((x+1j*y)/2,D0dag)+np.kron((np.identity(2)+z)/2,k0)-np.kron((np.identity(2)-z)/2,k0.T.conjugate())\n",
    "        u1= np.kron((x-1j*y)/2,D1)+ np.kron((x+1j*y)/2,D1dag)+np.kron((np.identity(2)+z)/2,k1)-np.kron((np.identity(2)-z)/2,k1.T.conjugate())\n",
    "\n",
    "\n",
    "        return u0,u1\n",
    "\n",
    "\n",
    "\n",
    "\n",
    "\n",
    "class RTN1(Gate):\n",
    "    def __init__(self, x,y, label=None):\n",
    "        super().__init__('RTN1', 2, [x,y], label=label)\n",
    " \n",
    "    def _define(self):\n",
    "        qc = QuantumCircuit(2)\n",
    "        \n",
    "        qc.unitary(self.unitary_mat_rtn()[1], [0, 1])\n",
    "        self.definition = qc\n",
    "\n",
    "    def kraus_list_rtn(self,t,gamma):\n",
    "        a=0.51\n",
    "        gamma = gamma\n",
    "        hf=np.sqrt(((2*a)/gamma**2)-1)\n",
    "        nf=np.exp(-gamma*t)*((np.cos(hf*(gamma*t))+(np.sin(hf*(gamma*t))/hf)))\n",
    "        k1=[[np.sqrt((1+nf)/2),0],[0,np.sqrt((1+nf)/2)]]\n",
    "        k2=[[np.sqrt((1-nf)/2),0],[0,-np.sqrt((1-nf)/2)]]\n",
    "     \n",
    "        return k1,k2\n",
    "\n",
    "\n",
    "    def unitary_mat_rtn(self):\n",
    "        gamma = self.params[0]\n",
    "        t = self.params[1]\n",
    "        #print(f'gamma_2-{gamma}, time_2-{t}\\n')\n",
    "        k_list=self.kraus_list_rtn(gamma,t)\n",
    "       \n",
    "        k0=np.array(k_list[0])\n",
    "        k1=np.array(k_list[1])\n",
    "        D0=sqrtm(np.identity(2)-np.matmul(k0.T.conjugate(),k0))\n",
    "        D0dag=sqrtm(np.identity(2)-np.matmul(k0,k0.T.conjugate()))\n",
    "        D1=sqrtm(np.identity(2)-np.matmul(k1.T.conjugate(),k1))\n",
    "        D1dag=sqrtm(np.identity(2)-np.matmul(k1,k1.T.conjugate()))\n",
    "\n",
    "        z=np.array([[1,0],[0,-1]])\n",
    "        x=np.array([[0,1],[1,0]])\n",
    "        y=np.array([[0,-1j],[1j,0]])\n",
    "        \n",
    "        u0= np.kron((x-1j*y)/2,D0)+ np.kron((x+1j*y)/2,D0dag)+np.kron((np.identity(2)+z)/2,k0)-np.kron((np.identity(2)-z)/2,k0.T.conjugate())\n",
    "        u1= np.kron((x-1j*y)/2,D1)+ np.kron((x+1j*y)/2,D1dag)+np.kron((np.identity(2)+z)/2,k1)-np.kron((np.identity(2)-z)/2,k1.T.conjugate())\n",
    "\n",
    "\n",
    "        return u0,u1\n",
    "\n",
    "\n",
    "\n",
    "num_qubits = 2\n",
    "feature_map=QuantumCircuit(2)\n",
    "feature_map.h(0)\n",
    "feature_map.cx(0,1)\n",
    "x,y = Parameter('x'),Parameter('y')\n",
    "mat = UHGate(x,y)\n",
    "# x[0], x[1] = symbols('t gamma')\n",
    "#  x[0],x[1] = symbols('x[0] x[1]')\n",
    "feature_map.append(RTN1(x,y),[0,1])\n",
    "feature_map.draw()\n",
    "\n"
   ]
  },
  {
   "cell_type": "code",
   "execution_count": 11,
   "metadata": {},
   "outputs": [
    {
     "data": {
      "image/png": "[encoded data removed]",
      "text/plain": [
       "<Figure size 454.517x200.667 with 1 Axes>"
      ]
     },
     "execution_count": 11,
     "metadata": {},
     "output_type": "execute_result"
    }
   ],
   "source": [
    "feature_map.draw(output='mpl',style=\"clifford\")"
   ]
  },
  {
   "cell_type": "code",
   "execution_count": 12,
   "metadata": {},
   "outputs": [
    {
     "data": {
      "image/png": "[encoded data removed]",
      "text/plain": [
       "<Figure size 370.906x200.667 with 1 Axes>"
      ]
     },
     "execution_count": 12,
     "metadata": {},
     "output_type": "execute_result"
    }
   ],
   "source": [
    "from qiskit.circuit.library import RealAmplitudes,EfficientSU2,NLocal,TwoLocal\n",
    "from qiskit.circuit.library import NLocal, CXGate, CRZGate, RXGate\n",
    "from qiskit.circuit import Parameter\n",
    "from qiskit.circuit.library import QAOAAnsatz\n",
    "from qiskit.quantum_info import SparsePauliOp\n",
    "\n",
    "ansatz = RealAmplitudes(num_qubits=2, reps=1)\n",
    "ansatz.decompose().draw(output=\"mpl\", style=\"clifford\", fold=50)\n",
    " \n",
    "  "
   ]
  },
  {
   "cell_type": "code",
   "execution_count": 13,
   "metadata": {},
   "outputs": [
    {
     "data": {
      "text/plain": [
       "<qiskit.circuit.instructionset.InstructionSet at 0x2cc006daad0>"
      ]
     },
     "execution_count": 13,
     "metadata": {},
     "output_type": "execute_result"
    }
   ],
   "source": [
    "model=QuantumCircuit(2)\n",
    "model.append(feature_map,[0,1])\n",
    "model.append(ansatz,[0,1])\n",
    "\n",
    "# model.decompose().decompose().draw(\"mpl\", style=\"clifford\")"
   ]
  },
  {
   "cell_type": "code",
   "execution_count": 14,
   "metadata": {},
   "outputs": [
    {
     "data": {
      "image/png": "[encoded data removed]",
      "text/plain": [
       "<Figure size 538.128x200.667 with 1 Axes>"
      ]
     },
     "execution_count": 14,
     "metadata": {},
     "output_type": "execute_result"
    }
   ],
   "source": [
    "model.draw('mpl')"
   ]
  },
  {
   "cell_type": "code",
   "execution_count": 15,
   "metadata": {},
   "outputs": [],
   "source": [
    "from qiskit.quantum_info import SparsePauliOp\n",
    "theta_list = (2 * np.pi * np.random.rand(1, 8)).tolist()\n",
    "observable = SparsePauliOp.from_list([(\"XX\", 1), (\"YY\", -3)])\n"
   ]
  },
  {
   "cell_type": "code",
   "execution_count": 16,
   "metadata": {},
   "outputs": [],
   "source": [
    "from qiskit_algorithms.optimizers import COBYLA,AQGD,SPSA\n",
    "\n",
    "optimizer = COBYLA(maxiter=100)\n",
    "from qiskit.primitives import Sampler\n",
    "\n",
    "sampler = Sampler()\n",
    "from matplotlib import pyplot as plt\n",
    "from IPython.display import clear_output\n",
    "\n",
    "objective_func_vals = []\n",
    "plt.rcParams[\"figure.figsize\"] = (6, 6)\n",
    "\n",
    "\n",
    "def callback_graph(weights, obj_func_eval):\n",
    "    clear_output(wait=True)\n",
    "    objective_func_vals.append(obj_func_eval)\n",
    "    plt.title(\"Objective function value against iteration\")\n",
    "    plt.xlabel(\"Iteration\")\n",
    "    plt.ylabel(\"Objective function value\")\n",
    "    plt.plot(range(len(objective_func_vals)), objective_func_vals)\n",
    "    plt.show()\n",
    "    \n",
    "    #print(f\"Epoch {epoch+1}/{num_epochs} - Training Loss: {train_loss:.4f} - Validation Loss: {val_loss:.4f}\")\n",
    "\n",
    "\n",
    "def callback_graph_2(weights, obj_func_eval):\n",
    "    train_losses.append(train_loss)\n",
    "    val_losses.append(val_loss)\n",
    "    print(f\"Epoch {epoch+1}/{num_epochs} - Training Loss: {train_loss:.4f} - Validation Loss: {val_loss:.4f}\")"
   ]
  },
  {
   "cell_type": "code",
   "execution_count": 17,
   "metadata": {},
   "outputs": [],
   "source": [
    "from sklearn.model_selection import train_test_split\n",
    "from qiskit_algorithms.utils import algorithm_globals\n",
    "\n",
    "algorithm_globals.random_seed = 42\n",
    "\n",
    "train_features, val_features, train_labels, val_labels = train_test_split(\n",
    "    data_features, data_labels, test_size=0.2, random_state=42\n",
    ")\n"
   ]
  },
  {
   "cell_type": "code",
   "execution_count": 18,
   "metadata": {},
   "outputs": [],
   "source": [
    "from sklearn.metrics import log_loss\n",
    "num_epochs = 1\n",
    "train_losses = []\n",
    "val_losses = []\n",
    "\n",
    "def compute_loss(predictions, labels):\n",
    "    return log_loss(labels, predictions)\n"
   ]
  },
  {
   "cell_type": "code",
   "execution_count": 19,
   "metadata": {},
   "outputs": [
    {
     "data": {
      "image/png": "[encoded data removed]",
      "text/plain": [
       "<Figure size 600x600 with 1 Axes>"
      ]
     },
     "metadata": {},
     "output_type": "display_data"
    }
   ],
   "source": [
    "from qiskit_machine_learning.algorithms.classifiers import VQC\n",
    "\n",
    "vqc = VQC(\n",
    "    sampler=sampler,\n",
    "    feature_map=feature_map,\n",
    "    ansatz=ansatz,\n",
    "    optimizer=optimizer,\n",
    "    callback=callback_graph,\n",
    ")\n",
    "\n",
    "# Training loop over epochs\n",
    "\n",
    "vqc.fit(train_features, train_labels)\n",
    "\n",
    "\n",
    "# Predict on training and validation data\n",
    "train_predictions = vqc.predict(train_features)\n",
    "val_predictions = vqc.predict(val_features)\n",
    "\n",
    "    \n",
    "obj_RA_2qcsv = pd.DataFrame(objective_func_vals)\n",
    "obj_RA_2qcsv.to_csv(\"objective_func_vals_RTN_RA.csv\")\n"
   ]
  },
  {
   "cell_type": "code",
   "execution_count": 20,
   "metadata": {},
   "outputs": [],
   "source": [
    "import numpy as np\n",
    "import pandas as pd\n",
    "# import matplotlib.pyplot as plt\n",
    "# import seaborn as sns\n",
    "import time\n",
    "from sklearn.model_selection import train_test_split\n",
    "from sklearn.metrics import log_loss,classification_report, confusion_matrix, precision_score, recall_score, f1_score, roc_curve, roc_auc_score,accuracy_score\n",
    "from qiskit import QuantumCircuit\n",
    "from qiskit.circuit.library import RealAmplitudes, ZZFeatureMap\n",
    "from qiskit_machine_learning.algorithms.classifiers import VQC\n",
    "from qiskit.primitives import Sampler\n",
    "from sklearn.model_selection import cross_validate\n",
    "from sklearn.linear_model import LogisticRegression\n",
    "from sklearn import metrics\n",
    "\n",
    "\n"
   ]
  },
  {
   "cell_type": "code",
   "execution_count": 21,
   "metadata": {},
   "outputs": [
    {
     "name": "stdout",
     "output_type": "stream",
     "text": [
      "              precision    recall  f1-score   support\n",
      "\n",
      "           0       1.00      1.00      1.00       199\n",
      "           1       1.00      1.00      1.00       201\n",
      "\n",
      "    accuracy                           1.00       400\n",
      "   macro avg       1.00      1.00      1.00       400\n",
      "weighted avg       1.00      1.00      1.00       400\n",
      "\n"
     ]
    }
   ],
   "source": [
    "print(classification_report(val_labels,val_predictions))"
   ]
  },
  {
   "cell_type": "code",
   "execution_count": 22,
   "metadata": {},
   "outputs": [
    {
     "name": "stdout",
     "output_type": "stream",
     "text": [
      "Confusion Matrix:\n",
      "[[199   0]\n",
      " [  0 201]]\n"
     ]
    }
   ],
   "source": [
    "confusion_matrix = confusion_matrix(val_labels, val_predictions)\n",
    "print('Confusion Matrix:')\n",
    "print(confusion_matrix)"
   ]
  },
  {
   "cell_type": "code",
   "execution_count": null,
   "metadata": {},
   "outputs": [],
   "source": []
  },
  {
   "cell_type": "code",
   "execution_count": null,
   "metadata": {},
   "outputs": [],
   "source": []
  }
 ],
 "metadata": {
  "kernelspec": {
   "display_name": "qiskit_1.0",
   "language": "python",
   "name": "qiskit_1.0"
  },
  "language_info": {
   "codemirror_mode": {
    "name": "ipython",
    "version": 3
   },
   "file_extension": ".py",
   "mimetype": "text/x-python",
   "name": "python",
   "nbconvert_exporter": "python",
   "pygments_lexer": "ipython3",
   "version": "3.11.0"
  }
 },
 "nbformat": 4,
 "nbformat_minor": 2
}
